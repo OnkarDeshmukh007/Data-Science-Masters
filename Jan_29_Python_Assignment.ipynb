{
 "cells": [
  {
   "cell_type": "markdown",
   "id": "057a4850-d360-4477-b811-88be6094e3e1",
   "metadata": {},
   "source": [
    "### Q1 Who developed python programming language?\n",
    "\n",
    "Python developed by Guido van Rossum"
   ]
  },
  {
   "cell_type": "markdown",
   "id": "e07498f8-7c56-47bd-ba5a-88d7149c4ca7",
   "metadata": {},
   "source": [
    "### Q2 Which type of programming does python support?\n",
    "\n",
    "Python is Object Oriented Programming language, along with that python also supports the procedural and functional programming"
   ]
  },
  {
   "cell_type": "markdown",
   "id": "6c730add-1ae5-467f-83e2-e6cea4387157",
   "metadata": {},
   "source": [
    "### Q3 Is python case sensitive when dealing with identifiers?\n",
    "\n",
    "Yes python is case sensitive when dealing with identitiers.\n",
    "eg. count =10 \n",
    "is not same as\n",
    "COUNT =10\n",
    "i.e count and COUNT are two different variables"
   ]
  },
  {
   "cell_type": "markdown",
   "id": "b89adf2e-66b0-41aa-b3fe-3ec8a8236cc3",
   "metadata": {},
   "source": [
    "### Q4 What is correct extension of python file?\n",
    "\n",
    ".py is the correct extension of python file"
   ]
  },
  {
   "cell_type": "markdown",
   "id": "0f64caf2-9bc8-4723-925c-975df6bc6b6e",
   "metadata": {},
   "source": [
    "### Q5 Is python code compiled of interpreted?\n",
    "\n",
    "Python is Interpreted programming language"
   ]
  },
  {
   "cell_type": "markdown",
   "id": "147b84d1-7b67-4005-b436-604aff8c3289",
   "metadata": {},
   "source": [
    "### Q6 Name few blocks of code used to define in python language?\n",
    "1. Class\n",
    "2. function\n",
    "3. module"
   ]
  },
  {
   "cell_type": "markdown",
   "id": "0b1a6b04-0a2a-4e1e-a203-51b46a980d86",
   "metadata": {},
   "source": [
    "### Q7 State a character used to give single-line comments in python?\n",
    "\n",
    "(#) is used to give single-line comment in python"
   ]
  },
  {
   "cell_type": "markdown",
   "id": "6ca7bcad-5a4b-4b4f-8ab9-6edc4186a86b",
   "metadata": {},
   "source": [
    "### Q8 Mention function which can help us to find the version of python that we are currently working on?\n",
    "\n",
    "If we are using terminal we can use command > \n",
    "python --version\n",
    "\n",
    "alternatively we can use sys.version also"
   ]
  },
  {
   "cell_type": "code",
   "execution_count": 4,
   "id": "6b069113-f114-4113-bcf8-38acd88856af",
   "metadata": {},
   "outputs": [
    {
     "data": {
      "text/plain": [
       "'3.10.8 | packaged by conda-forge | (main, Nov 22 2022, 08:26:04) [GCC 10.4.0]'"
      ]
     },
     "execution_count": 4,
     "metadata": {},
     "output_type": "execute_result"
    }
   ],
   "source": [
    "import sys\n",
    "sys.version"
   ]
  },
  {
   "cell_type": "markdown",
   "id": "15c466f1-80c7-426f-a164-ce390bcfab89",
   "metadata": {},
   "source": [
    "### Q9 Python supports the creation of anonymous functions at runtime, using a construct called ______.\n",
    "\n",
    "Python supports the creation of anonymous functions at runtime, using a construct called lambda."
   ]
  },
  {
   "cell_type": "markdown",
   "id": "788c8f38-aa20-469b-a8c6-b75f76604680",
   "metadata": {},
   "source": [
    "### Q10 What does pip stand for python?\n",
    "\n",
    "pip is a package manager for python packages & its full form is \"Pip Install Packages\""
   ]
  },
  {
   "cell_type": "markdown",
   "id": "ef49c1ba-7437-45a4-b924-cc773c898a82",
   "metadata": {},
   "source": [
    "### Q11 Mention few built-in functions in python?\n",
    "\n",
    "1. type() - gives data type of argument passed to function\n",
    "2. range() - generate the sequence of numbers\n",
    "3. print() - print the message to standard output\n",
    "4. len() - returns the length\n",
    "5. sum() - returns the sum\n",
    "6. max() - returns maximum\n",
    "7. min() - return minimum\n",
    "8. input() - taked input from user\n",
    "9. int() - return integer\n",
    "10. help() - used to get helpfull information about object"
   ]
  },
  {
   "cell_type": "markdown",
   "id": "616a2be6-a428-4b56-82fc-5a2f19db62c5",
   "metadata": {},
   "source": [
    "### Q12 What is maximum possible length of an identifier in python?\n",
    "\n",
    "Maximum possible length of identifier in python - 79 characters"
   ]
  },
  {
   "cell_type": "markdown",
   "id": "1abe652f-4ac6-4736-a2c6-dc2c32dbaf38",
   "metadata": {},
   "source": [
    "### Q13 What are the benifits of using python?\n",
    "1. Python have large numbers of support libraries (numpy, pandas, etc) which makes python usefull in most of the scenarios\n",
    "2. It is a Open source with large community contributions\n",
    "3. User friendly\n",
    "4. Follows OOPs concepts\n",
    "5. Portable - makes easy to write code anywhere and run everywhere\n",
    "6. Dynamically typed \n",
    "7. Easy to lear & wite\n",
    "8. Interpreted language"
   ]
  },
  {
   "cell_type": "markdown",
   "id": "962048c6-0f4f-45e5-8979-a9eaddb33166",
   "metadata": {},
   "source": [
    "### Q14 How is memory managed in python?\n",
    "\n",
    "1. In python allocation & deallocation of memory is done automatically. It has garbage collector in python which frees the memory when not in use.\n",
    "#### There are mainly two parts -\n",
    "\n",
    "1. Stact memory -\n",
    "    - Method calls, references are stored in stack memory\n",
    "    - Whenever methods/functions get called memory is allocated for all functions variables on stack\n",
    "    - any values assigned to local variables are temprory stored on stack\n",
    "    - once function call ends & function returns these allocated memory for local variables is deleted.\n",
    "\n",
    "2. Heap memory -\n",
    "    - All values, objects are stored in heap memory\n",
    "    - basically all variable which are global or varibles outside of any function are stored in heap memory\n",
    "    "
   ]
  },
  {
   "cell_type": "markdown",
   "id": "bcea0bad-2ee6-4559-b326-0c0d82b75541",
   "metadata": {},
   "source": [
    "### Q15 How to install python on windows & set path variables?\n",
    "\n",
    "1. We can download the python from the python website (download windows specific file) https://www.python.org/downloads/. \n",
    "2. After that execute the .exe file it will open installation wizard to install the python\n",
    "3. we can select the dir where to install python \n",
    "4. we will also get an option to add path variables for python in install wizard.\n",
    "5. Finally python is installed & path variables is set.\n",
    "6. alternatively, to set path variable we can go to adavanced system settings and add path for python."
   ]
  },
  {
   "cell_type": "markdown",
   "id": "a83063c4-8ffa-444b-a2bf-d04a807ecd45",
   "metadata": {},
   "source": [
    "### Q16 Is identation required in python?\n",
    "\n",
    "Yes it is rquired.\n",
    "\n",
    "To separate block of code (for, if ,function,class) identation is very much required."
   ]
  },
  {
   "cell_type": "code",
   "execution_count": null,
   "id": "b18e9e57-ea70-4564-8661-ab3fc2e7f413",
   "metadata": {},
   "outputs": [],
   "source": []
  }
 ],
 "metadata": {
  "kernelspec": {
   "display_name": "Python 3 (ipykernel)",
   "language": "python",
   "name": "python3"
  },
  "language_info": {
   "codemirror_mode": {
    "name": "ipython",
    "version": 3
   },
   "file_extension": ".py",
   "mimetype": "text/x-python",
   "name": "python",
   "nbconvert_exporter": "python",
   "pygments_lexer": "ipython3",
   "version": "3.10.8"
  }
 },
 "nbformat": 4,
 "nbformat_minor": 5
}

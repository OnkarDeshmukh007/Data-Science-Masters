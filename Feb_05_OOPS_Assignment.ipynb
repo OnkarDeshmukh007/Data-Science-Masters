{
 "cells": [
  {
   "cell_type": "markdown",
   "id": "814d0c6f-eae3-43a3-9d6e-2abbe668c2cd",
   "metadata": {},
   "source": [
    "## Q1. Explain Class and Object with respect to Object-Oriented Programming. Give a suitable example.\n",
    "\n",
    "\n",
    "Class is a blueprint / template for a object. Class holds all the attributes & methods which object can have.\n",
    "\n",
    "Object is instance of a class. Whatever attributes/methods defined in class object will have access to those.\n",
    "\n",
    "E.g. If we consider real world example - consider vehicle -\n",
    "As we know there are differnt kinds of vehicle like two wheeler, four wheeler, etc.\n",
    "vehicle will be an class with attributes as below\n",
    "1. type (2/4 wheeler)\n",
    "2. color\n",
    "3. seat capacity\n",
    "4. fuel tank capacity (ltr)\n",
    "5. mileage\n",
    "6. fuel type\n",
    "\n",
    "we can have object of vehicle class for a two wheeler with below values for attributes -\n",
    "1. type (2/4 wheeler) = '2 wheeler'\n",
    "2. color = 'red'\n",
    "3. seat capacity = 2\n",
    "4. fuel tank capacity (ltr) = 10\n",
    "5. mileage(kms/ltr) = 45 \n",
    "6. fuel type = 'petrol'\n",
    "\n",
    "\n",
    "From one class we can create multiple objects with different sets of values for attributes of class."
   ]
  },
  {
   "cell_type": "code",
   "execution_count": 1,
   "id": "6409ddbc-0362-4b16-8b00-0e73b49c0b49",
   "metadata": {},
   "outputs": [],
   "source": [
    "# eg. \n",
    "class vehicle:\n",
    "    def __init__(self,type_of_v,color,seat_cap,mileage):\n",
    "        self.type_of_v=type_of_v\n",
    "        self.color=color\n",
    "        self.seat_cap=seat_cap\n",
    "        self.mileage=mileage"
   ]
  },
  {
   "cell_type": "code",
   "execution_count": 3,
   "id": "2b342d82-86c6-42b8-a89f-b7a665b7aba9",
   "metadata": {},
   "outputs": [
    {
     "name": "stdout",
     "output_type": "stream",
     "text": [
      "two wheeler   red   2   45\n"
     ]
    }
   ],
   "source": [
    "two_wheeler = vehicle('two wheeler','red',2,45)\n",
    "print(two_wheeler.type_of_v,' ',two_wheeler.color,' ',two_wheeler.seat_cap,' ',two_wheeler.mileage)"
   ]
  },
  {
   "cell_type": "markdown",
   "id": "c166b4df-006c-4dae-8ccc-18baeb92b547",
   "metadata": {},
   "source": [
    "### Q2. Name the four pillars of OOPs.\n",
    "\n",
    "1. Inheritance \n",
    "2. Polymorphism \n",
    "3. Encapsulation\n",
    "4. Abstraction"
   ]
  },
  {
   "cell_type": "markdown",
   "id": "ca2c8e41-322d-435b-a37a-51291b827fd0",
   "metadata": {},
   "source": [
    "### Q3. Explain why the __init__() function is used. Give a suitable example.\n",
    "\n",
    "The __init__() is used to initialize the attributes of the class. It is used as a contructor. \n",
    "__init__() function is called by phthon itsel as soos as the object of a class is created. It is usefull to assign the values to the variables for a object\n"
   ]
  },
  {
   "cell_type": "code",
   "execution_count": 20,
   "id": "1c15109d-3cbe-4841-857a-51aad628dfd6",
   "metadata": {},
   "outputs": [],
   "source": [
    "#eg.\n",
    "class person:\n",
    "    def __init__(self,age,name,hobbies):\n",
    "        self.age=age\n",
    "        self.name=name\n",
    "        self.hobbies=hobbies"
   ]
  },
  {
   "cell_type": "code",
   "execution_count": 26,
   "id": "99966e7e-ca86-4d7c-98fb-e8fb3d7f0d55",
   "metadata": {},
   "outputs": [
    {
     "name": "stdout",
     "output_type": "stream",
     "text": [
      "xyz is a 25 years old & likes to listen music\n"
     ]
    }
   ],
   "source": [
    "# as below while creating object of a class we can pass the all values \n",
    "# and internally init method will be called & values will be assigned to variables\n",
    "a = person(25,'xyz','listen music')\n",
    "print(a.name,'is a',a.age,'years old & likes to',a.hobbies)"
   ]
  },
  {
   "cell_type": "markdown",
   "id": "28dd476c-fb49-4f1d-af5f-0b7bc2ee4677",
   "metadata": {},
   "source": [
    "### Q4. Why self is used in OOPs?\n",
    "\n",
    "self in python represents the instance of a class i.e object.\n",
    "In python, methods accept first argument as object itself which called that method.\n",
    "To access variables self is used as self always point to the current object."
   ]
  },
  {
   "cell_type": "markdown",
   "id": "e75623d0-2373-46e7-823c-31d720323a33",
   "metadata": {},
   "source": [
    "### Q5. What is inheritance? Give an example for each type of inheritance.\n",
    "\n",
    "Inheritance - Is the ability of a class to inherit variables & methods from other classess  \n",
    "We can create class or derive class from other class.\n",
    "\n",
    "There are total 4 types of Inheritance in python -\n",
    "1. Single - this allows class to inherit from a single parent class \n",
    "2. Multiple - when class is derived from multiple parent classes then it is multiple inheritance\n",
    "3. Multilevel - when class is derived from a parent class which is also a derived from another base class\n",
    "4. Heirarchical - when multiple calsses derived from same single parent class\n"
   ]
  },
  {
   "cell_type": "code",
   "execution_count": 28,
   "id": "da3afb01-916b-439f-b110-348450ef221c",
   "metadata": {},
   "outputs": [
    {
     "name": "stdout",
     "output_type": "stream",
     "text": [
      "this is parent\n"
     ]
    }
   ],
   "source": [
    "# single inheritance - \n",
    "# as any child will inherit properties from their parents\n",
    "class parent:\n",
    "    def display_parent(self):\n",
    "        print('this is parent')\n",
    "\n",
    "class child(parent):\n",
    "    def display_child(self):\n",
    "        print('this is child')\n",
    "\n",
    "obj=child()\n",
    "obj.display_parent()"
   ]
  },
  {
   "cell_type": "code",
   "execution_count": 37,
   "id": "84c50313-fae6-42a2-923c-e31a23d1c88d",
   "metadata": {},
   "outputs": [
    {
     "name": "stdout",
     "output_type": "stream",
     "text": [
      "this father\n",
      "this is mother\n"
     ]
    }
   ],
   "source": [
    "# Multiple \n",
    "# taking above example child inherit from mother as well as father\n",
    "class father:\n",
    "    def display_father(self):\n",
    "        print('this father')\n",
    "class mother:\n",
    "    def display_mother(self):\n",
    "        print('this is mother')\n",
    "class child(father,mother):\n",
    "    pass\n",
    "\n",
    "obj = child()\n",
    "obj.display_father()\n",
    "obj.display_mother()"
   ]
  },
  {
   "cell_type": "code",
   "execution_count": 39,
   "id": "d62d95a5-68ad-4563-9d9c-98c7752281ae",
   "metadata": {},
   "outputs": [
    {
     "name": "stdout",
     "output_type": "stream",
     "text": [
      "this is parents\n",
      "this is grandparent\n"
     ]
    }
   ],
   "source": [
    "# Multilevel\n",
    "# same as child inherit from parents, parents also inherit from their parents \n",
    "# so child also inherit form their grandparents\n",
    "class grandparent:\n",
    "    def display_grandparent(self):\n",
    "        print('this is grandparent')\n",
    "class parents(grandparent):\n",
    "    def display_parents(self):\n",
    "        print('this is parents')\n",
    "class child(parents):\n",
    "    pass\n",
    "\n",
    "obj = child()\n",
    "\n",
    "obj.display_parents()\n",
    "obj.display_grandparent()"
   ]
  },
  {
   "cell_type": "code",
   "execution_count": 42,
   "id": "1bb6e38b-f977-4965-8219-b19bb6db3b47",
   "metadata": {},
   "outputs": [
    {
     "name": "stdout",
     "output_type": "stream",
     "text": [
      "this is parent\n",
      "this is parent\n"
     ]
    }
   ],
   "source": [
    "# Heirarchical\n",
    "# consider example as parents having multiple childrens\n",
    "class parent:\n",
    "    def dislplay_parent(self):\n",
    "        print('this is parent')\n",
    "class child1(parent):\n",
    "    pass\n",
    "class child2(parent):\n",
    "    pass\n",
    "\n",
    "obj1 = child1()\n",
    "obj2 = child2()\n",
    "\n",
    "obj1.dislplay_parent()\n",
    "obj2.dislplay_parent()"
   ]
  },
  {
   "cell_type": "code",
   "execution_count": null,
   "id": "641dad03-5c5a-4373-a968-a174ab70d377",
   "metadata": {},
   "outputs": [],
   "source": []
  }
 ],
 "metadata": {
  "kernelspec": {
   "display_name": "Python 3 (ipykernel)",
   "language": "python",
   "name": "python3"
  },
  "language_info": {
   "codemirror_mode": {
    "name": "ipython",
    "version": 3
   },
   "file_extension": ".py",
   "mimetype": "text/x-python",
   "name": "python",
   "nbconvert_exporter": "python",
   "pygments_lexer": "ipython3",
   "version": "3.10.8"
  }
 },
 "nbformat": 4,
 "nbformat_minor": 5
}

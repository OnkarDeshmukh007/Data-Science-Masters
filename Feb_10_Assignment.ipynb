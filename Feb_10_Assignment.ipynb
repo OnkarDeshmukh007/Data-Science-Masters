{
 "cells": [
  {
   "cell_type": "markdown",
   "id": "1ce04874-5152-4dd2-aa8d-0292c65e7bf7",
   "metadata": {},
   "source": [
    "### Q1. Which function is used to open a file? What are the different modes of opening a file? Explain each mode of file opening.\n",
    "\n",
    "open() is used to open files in python.\n",
    "- Modes of opening file -\n",
    "1. r - open file for reading only\n",
    "1. r+ - reading & writing - pointer at start\n",
    "2. w - open file for writing only (existing) and truncate'\n",
    "2. w+ - reading & writing. if file exist overwrite the file & pointer at start\n",
    "3. x - create & open for writing\n",
    "4. a - open for writing and append \n",
    "4. a+ - open for writing & reading, file is created if not exist, pointer at the end \n",
    "6. wb - writing only binary file\n",
    "7. rb - read only binary\n",
    "8. r+b - read & write binary - pointer at the start\n",
    "9. w+b - read & write binary - overwrites in existing file\n",
    "10. ab - apending binary file\n",
    "11. a+b - apendign and also for reading binary file. if file exist pointer at start, if not created new file for writing & reading"
   ]
  },
  {
   "cell_type": "markdown",
   "id": "eed4be11-fe98-425b-9414-0cd31dca4621",
   "metadata": {},
   "source": [
    "### Q2. Why close() function is used? Why is it important to close a file?\n",
    "\n",
    "close() is used to close the opened files.\n",
    "If file is modified it is stored in buffer not actually in the file, to make changes permanant we need to close the file with close() function."
   ]
  },
  {
   "cell_type": "markdown",
   "id": "a5fbb511-fd2b-4ddd-8d55-b93aee636ae6",
   "metadata": {},
   "source": [
    "### Q3. Write a python program to create a text file. Write ‘I want to become a Data Scientist’ in that file. Then close the file. Open this file and read the content of the file."
   ]
  },
  {
   "cell_type": "code",
   "execution_count": 1,
   "id": "9d5aa637-684c-4a45-954f-fcaed9e9628c",
   "metadata": {},
   "outputs": [],
   "source": [
    "file = open('test.txt','w')"
   ]
  },
  {
   "cell_type": "code",
   "execution_count": 2,
   "id": "9fb58451-4a9b-4375-87c4-75a205942903",
   "metadata": {},
   "outputs": [
    {
     "data": {
      "text/plain": [
       "33"
      ]
     },
     "execution_count": 2,
     "metadata": {},
     "output_type": "execute_result"
    }
   ],
   "source": [
    "file.write('I want to become a Data Scientist')"
   ]
  },
  {
   "cell_type": "code",
   "execution_count": 3,
   "id": "2d39021a-7a77-419c-96b8-839b18ab2871",
   "metadata": {},
   "outputs": [],
   "source": [
    "file.close()"
   ]
  },
  {
   "cell_type": "code",
   "execution_count": 4,
   "id": "f8296950-68ef-44fd-800a-f8c8ef4eeb97",
   "metadata": {},
   "outputs": [],
   "source": [
    "file = open('test.txt','r')"
   ]
  },
  {
   "cell_type": "code",
   "execution_count": 5,
   "id": "d190b0c1-3b86-462e-b3c9-79239e55e2fa",
   "metadata": {},
   "outputs": [
    {
     "data": {
      "text/plain": [
       "'I want to become a Data Scientist'"
      ]
     },
     "execution_count": 5,
     "metadata": {},
     "output_type": "execute_result"
    }
   ],
   "source": [
    "file.readline()"
   ]
  },
  {
   "cell_type": "code",
   "execution_count": 7,
   "id": "54c16744-ad2c-4e61-b817-edb6ef22461c",
   "metadata": {},
   "outputs": [],
   "source": [
    "file.close()"
   ]
  },
  {
   "cell_type": "markdown",
   "id": "8fd33d96-7360-4be5-9928-5ef588ecccd7",
   "metadata": {},
   "source": [
    "### Q4. Explain the following with python code: read(), readline() and readlines()."
   ]
  },
  {
   "cell_type": "code",
   "execution_count": 9,
   "id": "f28e91e5-f18b-41a8-84eb-bcc8fa6e4777",
   "metadata": {},
   "outputs": [],
   "source": [
    "file = open('test.txt','w')\n",
    "file.writelines(\"A wiki (/ˈwɪki/ (listen) WIK-ee) is an online hypertext publication collaboratively edited and managed by its own audience, using a web browser. A typical wiki contains multiple pages for the subjects or scope of the project, and could be either open to the public or limited to use within an organization for maintaining its internal knowledge base.\")\n",
    "file.close()"
   ]
  },
  {
   "cell_type": "code",
   "execution_count": 25,
   "id": "8748b777-58c1-47f9-8baf-8c306561da88",
   "metadata": {},
   "outputs": [],
   "source": [
    "file = open('test.txt','r')"
   ]
  },
  {
   "cell_type": "markdown",
   "id": "c4e987ae-c8db-4f2d-b7f3-cd2f7b900d89",
   "metadata": {},
   "source": [
    "#### read() - It is used to read the n characters from the file, if dont give value for n or value is negative it will read till the end of file"
   ]
  },
  {
   "cell_type": "code",
   "execution_count": 26,
   "id": "f3b92fe5-690a-42c1-a85f-bbb49d56b7e3",
   "metadata": {},
   "outputs": [
    {
     "data": {
      "text/plain": [
       "'A wiki (/ˈwɪki/ (listen) WIK-ee) is an online hype'"
      ]
     },
     "execution_count": 26,
     "metadata": {},
     "output_type": "execute_result"
    }
   ],
   "source": [
    "file.read(50)"
   ]
  },
  {
   "cell_type": "code",
   "execution_count": 27,
   "id": "4c474f62-2f50-4729-990b-72bbd4962c36",
   "metadata": {},
   "outputs": [
    {
     "data": {
      "text/plain": [
       "'rtext publication collaboratively edited and \\nmanaged by its own audience, using a web browser. \\nA typical wiki contains multiple pages for the subjects or scope of the project, \\nand could be either open to the public or limited to use \\nwithin an organization for maintaining its internal knowledge base.'"
      ]
     },
     "execution_count": 27,
     "metadata": {},
     "output_type": "execute_result"
    }
   ],
   "source": [
    "#here as previously read the 50 chars & pointer is at that position so below code will read from there only till eof \n",
    "file.read()"
   ]
  },
  {
   "cell_type": "code",
   "execution_count": 28,
   "id": "8edc62d5-7b0e-4509-81ff-eda634c3d6d1",
   "metadata": {},
   "outputs": [],
   "source": [
    "file.close()"
   ]
  },
  {
   "cell_type": "markdown",
   "id": "d0019d72-93b0-43b7-adba-31fb528be174",
   "metadata": {},
   "source": [
    "### readline() - this will read the single line i.e till \"n\" or if not find any \"\\n\" then till eof\n"
   ]
  },
  {
   "cell_type": "code",
   "execution_count": 30,
   "id": "3755983b-7c2f-4817-bf71-3216122a7a55",
   "metadata": {},
   "outputs": [],
   "source": [
    "file = open('test.txt','r')"
   ]
  },
  {
   "cell_type": "code",
   "execution_count": 31,
   "id": "fc95409e-c3a0-4453-97cc-34b6f5283895",
   "metadata": {},
   "outputs": [
    {
     "data": {
      "text/plain": [
       "'A wiki (/ˈwɪki/ (listen) WIK-ee) is an online hypertext publication collaboratively edited and \\n'"
      ]
     },
     "execution_count": 31,
     "metadata": {},
     "output_type": "execute_result"
    }
   ],
   "source": [
    "file.readline()"
   ]
  },
  {
   "cell_type": "code",
   "execution_count": 33,
   "id": "c6858c32-f880-446c-a589-d0fce1c7d60f",
   "metadata": {},
   "outputs": [],
   "source": [
    "file.close()"
   ]
  },
  {
   "cell_type": "markdown",
   "id": "d6da35b5-7786-46c4-8c96-343ec5cba44b",
   "metadata": {},
   "source": [
    "### readlines() - It will read multiple lines and returns as list of lines"
   ]
  },
  {
   "cell_type": "code",
   "execution_count": 46,
   "id": "9b38532b-5b5f-462d-8083-04441c440f59",
   "metadata": {},
   "outputs": [],
   "source": [
    "file = open('test.txt','r')"
   ]
  },
  {
   "cell_type": "code",
   "execution_count": 47,
   "id": "6f169c2a-a732-4ced-b26b-35e062d95e66",
   "metadata": {},
   "outputs": [
    {
     "data": {
      "text/plain": [
       "['A wiki (/ˈwɪki/ (listen) WIK-ee) is an online hypertext publication collaboratively edited and \\n',\n",
       " 'managed by its own audience, using a web browser. \\n',\n",
       " 'A typical wiki contains multiple pages for the subjects or scope of the project, \\n',\n",
       " 'and could be either open to the public or limited to use \\n',\n",
       " 'within an organization for maintaining its internal knowledge base.']"
      ]
     },
     "execution_count": 47,
     "metadata": {},
     "output_type": "execute_result"
    }
   ],
   "source": [
    "file.readlines()"
   ]
  },
  {
   "cell_type": "code",
   "execution_count": 48,
   "id": "7a325bf8-062c-444d-9eb1-13a2cb8058dc",
   "metadata": {},
   "outputs": [],
   "source": [
    "file.close()"
   ]
  },
  {
   "cell_type": "markdown",
   "id": "df85836b-770d-4e2c-aea9-69d9282376be",
   "metadata": {},
   "source": [
    "### Q5. Explain why with statement is used with open(). What is the advantage of using with statement and open() together?\n",
    "\n",
    "with is an context manager. \n",
    "1. If we open files using with it will make sure to close the file after operations on file at the end\n",
    "2. also if any exceptions happens in code, it will close file first then python will throw exception\n",
    "3. so it is helpfull to close files & we dont have to worry about it.\n",
    "\n",
    "eg."
   ]
  },
  {
   "cell_type": "code",
   "execution_count": 50,
   "id": "c3632ca7-ff3b-416c-b67b-3a4317b66dd1",
   "metadata": {},
   "outputs": [
    {
     "name": "stdout",
     "output_type": "stream",
     "text": [
      "A wiki (/ˈwɪki/ (listen) WIK-ee) is an online hypertext publication collaboratively edited and \n",
      "managed by its own audience, using a web browser. \n",
      "A typical wiki contains multiple pages for the subjects or scope of the project, \n",
      "and could be either open to the public or limited to use \n",
      "within an organization for maintaining its internal knowledge base.\n"
     ]
    }
   ],
   "source": [
    "# here we have not used close funciton for file as it will be closed automatically\n",
    "with open('test.txt','r') as f:\n",
    "    data = f.read()\n",
    "    print(data)"
   ]
  },
  {
   "cell_type": "markdown",
   "id": "fa3fb637-54db-4a0f-8545-3e1fe4655b2d",
   "metadata": {},
   "source": [
    "### Q6. Explain the write() and writelines() functions. Give a suitable example."
   ]
  },
  {
   "cell_type": "markdown",
   "id": "c61014a2-bb7c-4893-9daa-325b603509c9",
   "metadata": {},
   "source": [
    "### write() - It will simply write the text/string to the file"
   ]
  },
  {
   "cell_type": "code",
   "execution_count": 56,
   "id": "5e8087c1-83a6-48fd-95cc-ce6ca6c4fb4a",
   "metadata": {},
   "outputs": [],
   "source": [
    "with open('test1.txt','w') as f:\n",
    "    f.write(\"this is test text\")"
   ]
  },
  {
   "cell_type": "code",
   "execution_count": 57,
   "id": "d236122b-0284-4c45-8268-7cc963a63bdd",
   "metadata": {},
   "outputs": [
    {
     "name": "stdout",
     "output_type": "stream",
     "text": [
      "this is test text\n"
     ]
    }
   ],
   "source": [
    "with open('test1.txt','r') as f:\n",
    "    print(f.read())"
   ]
  },
  {
   "cell_type": "markdown",
   "id": "c1e9f142-0d79-4e1e-a32c-20c76a354954",
   "metadata": {},
   "source": [
    "### writelines() - It writes list of lines passed as argument to the file"
   ]
  },
  {
   "cell_type": "code",
   "execution_count": 60,
   "id": "7b3a740c-3afd-4fc0-956e-ad0f64546e65",
   "metadata": {},
   "outputs": [],
   "source": [
    "with open('test2.txt','w') as f:\n",
    "    f.writelines(['this is test line1','this is test line2','this is test line3'])"
   ]
  },
  {
   "cell_type": "code",
   "execution_count": 61,
   "id": "9a5dfab5-011b-4d17-9118-5fad49a94b73",
   "metadata": {},
   "outputs": [
    {
     "name": "stdout",
     "output_type": "stream",
     "text": [
      "this is test line1this is test line2this is test line3\n"
     ]
    }
   ],
   "source": [
    "with open('test2.txt','r') as f:\n",
    "    print(f.read())"
   ]
  },
  {
   "cell_type": "code",
   "execution_count": null,
   "id": "fd2afbe4-b21b-4902-a4cc-efb3b87a7853",
   "metadata": {},
   "outputs": [],
   "source": []
  }
 ],
 "metadata": {
  "kernelspec": {
   "display_name": "Python 3 (ipykernel)",
   "language": "python",
   "name": "python3"
  },
  "language_info": {
   "codemirror_mode": {
    "name": "ipython",
    "version": 3
   },
   "file_extension": ".py",
   "mimetype": "text/x-python",
   "name": "python",
   "nbconvert_exporter": "python",
   "pygments_lexer": "ipython3",
   "version": "3.10.8"
  }
 },
 "nbformat": 4,
 "nbformat_minor": 5
}

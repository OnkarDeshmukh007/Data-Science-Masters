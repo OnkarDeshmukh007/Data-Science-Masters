{
 "cells": [
  {
   "cell_type": "markdown",
   "id": "cb01635b-9bdc-4276-be20-04d0807c9de5",
   "metadata": {},
   "source": [
    "### Q1. You are writing code for a company. The requirement of the company is that you create a python function that will check whether the password entered by the user is correct or not. \n",
    "### The function should take the password as input and return the string “Valid Password” if the entered password follows the below-given password guidelines else it should return “Invalid Password”.\n",
    "### Note: \n",
    "1. The Password should contain at least two uppercase letters and at least two lowercase letters.\n",
    "2. The Password should contain at least a number and three special characters.\n",
    "3. The length of the password should be 10 characters long."
   ]
  },
  {
   "cell_type": "code",
   "execution_count": 11,
   "id": "445e9ad3-6bc2-472e-ae51-1b9e6c230410",
   "metadata": {},
   "outputs": [],
   "source": [
    "def password_validation(password):\n",
    "    if len(password)>=10 :\n",
    "        upper_count=0\n",
    "        lower_count=0\n",
    "        special_count=0\n",
    "        number_count=0\n",
    "        for i in password:\n",
    "            if i.islower():\n",
    "                lower_count+=1\n",
    "            if i.isupper():\n",
    "                upper_count+=1\n",
    "            if i.isdigit():\n",
    "                number_count+=1\n",
    "            if not (i.isalpha() or i.isdigit() or i == ' '):\n",
    "                special_count+=1\n",
    "        if lower_count>=2 and upper_count>=2 and number_count>=1 and special_count>=3:\n",
    "            return \"Valid Password\"\n",
    "        else: return \"Invalid Password\"\n",
    "    else: return \"Invalid Password\""
   ]
  },
  {
   "cell_type": "code",
   "execution_count": 22,
   "id": "6b67bff9-3f83-4adc-8217-7bbf650946e5",
   "metadata": {},
   "outputs": [
    {
     "name": "stdin",
     "output_type": "stream",
     "text": [
      "Enter the Password P@@ssWord#2023\n"
     ]
    },
    {
     "name": "stdout",
     "output_type": "stream",
     "text": [
      "Valid Password\n"
     ]
    }
   ],
   "source": [
    "password = str(input('Enter the Password'))\n",
    "\n",
    "print(password_validation(password))"
   ]
  },
  {
   "cell_type": "markdown",
   "id": "2e3b6493-e46d-466c-8240-00b1abda837e",
   "metadata": {},
   "source": [
    " "
   ]
  },
  {
   "cell_type": "markdown",
   "id": "4aa7b00d-86ae-4412-b2c9-d4daa57069f3",
   "metadata": {},
   "source": [
    "### Q2. Solve the below-given questions using at least one of the following:\n",
    "1. Lambda function\n",
    "2. Filter function\n",
    "3. Map function\n",
    "4. List Comprehension\n",
    "- Check if the string starts with a particular letter.\n",
    "- Check if the string is numeric.\n",
    "- Sort a list of tuples having fruit names and their quantity. [(\"mango\",99),(\"orange\",80), (\"grapes\", 1000)]\n",
    "- Find the squares of numbers from 1 to 10.\n",
    "- Find the cube root of numbers from 1 to 10.\n",
    "- Check if a given number is even.\n",
    "- Filter odd numbers from the given list.\n",
    "[1,2,3,4,5,6,7,8,9,10]\n",
    "- Sort a list of integers into positive and negative integers lists.\n",
    "[1,2,3,4,5,6,-1,-2,-3,-4,-5,0]"
   ]
  },
  {
   "cell_type": "markdown",
   "id": "3b158a01-1c97-4dc1-9396-0c0f888d196c",
   "metadata": {},
   "source": [
    "### 1. Check if the string starts with a particular letter."
   ]
  },
  {
   "cell_type": "code",
   "execution_count": 74,
   "id": "164e7e35-22b1-481d-845c-45a1db5524a0",
   "metadata": {},
   "outputs": [
    {
     "name": "stdin",
     "output_type": "stream",
     "text": [
      "Enter the string Python is easy\n",
      "Enter which letter needs to be at start p\n"
     ]
    },
    {
     "data": {
      "text/plain": [
       "\"p is present at start of 'Python is easy'\""
      ]
     },
     "execution_count": 74,
     "metadata": {},
     "output_type": "execute_result"
    }
   ],
   "source": [
    "string = str(input(\"Enter the string\"))\n",
    "char = input(\"Enter which letter needs to be at start\")\n",
    "\n",
    "a = lambda string,char: f\"{char} is present at start of '{string}'\" if string[0].lower() == char.lower() else f\"{char} is not present at start of '{string}'\"\n",
    "\n",
    "a(string,char)"
   ]
  },
  {
   "cell_type": "markdown",
   "id": "23fb5e2d-c195-4683-83ff-5c67ae18f9a4",
   "metadata": {},
   "source": [
    "### 2. Check if the string is numeric."
   ]
  },
  {
   "cell_type": "code",
   "execution_count": 70,
   "id": "7d3eb35e-fdb1-42f0-b0e6-58db9f25a8e7",
   "metadata": {},
   "outputs": [
    {
     "name": "stdin",
     "output_type": "stream",
     "text": [
      "Enter the string 654\n"
     ]
    },
    {
     "data": {
      "text/plain": [
       "'654 is Numeric'"
      ]
     },
     "execution_count": 70,
     "metadata": {},
     "output_type": "execute_result"
    }
   ],
   "source": [
    "string = str(input(\"Enter the string\"))\n",
    "\n",
    "a = lambda string :  f\"{string} is Numeric\" if string.isnumeric() else f\"{string} is not Numeric\"\n",
    "\n",
    "a(string)"
   ]
  },
  {
   "cell_type": "markdown",
   "id": "3dd39081-9395-458b-82b3-0b008ababd03",
   "metadata": {},
   "source": [
    "### 3. Sort a list of tuples having fruit names and their quantity. [(\"mango\",99),(\"orange\",80), (\"grapes\", 1000)]"
   ]
  },
  {
   "cell_type": "code",
   "execution_count": 39,
   "id": "3f408464-3ba3-467e-9c7b-8ee6e0df8846",
   "metadata": {},
   "outputs": [
    {
     "data": {
      "text/plain": [
       "[('mango', 99), ('orange', 80), ('grapes', 1000)]"
      ]
     },
     "execution_count": 39,
     "metadata": {},
     "output_type": "execute_result"
    }
   ],
   "source": [
    "lst = [(\"mango\",99),(\"orange\",80), (\"grapes\", 1000)]\n",
    "lst"
   ]
  },
  {
   "cell_type": "code",
   "execution_count": 42,
   "id": "8a14f9fc-4ab6-4c89-b437-232108ed9dbe",
   "metadata": {},
   "outputs": [
    {
     "data": {
      "text/plain": [
       "[('orange', 80), ('mango', 99), ('grapes', 1000)]"
      ]
     },
     "execution_count": 42,
     "metadata": {},
     "output_type": "execute_result"
    }
   ],
   "source": [
    "# sorting vased on quantity of fruits\n",
    "a = lambda i: i[1]\n",
    "lst.sort(key=a)\n",
    "lst"
   ]
  },
  {
   "cell_type": "markdown",
   "id": "6f5e5f74-8f1c-4b90-947b-752c49574fcb",
   "metadata": {},
   "source": [
    "### 4. Find the squares of numbers from 1 to 10."
   ]
  },
  {
   "cell_type": "code",
   "execution_count": 45,
   "id": "df49f01a-ba53-4284-a324-413bcb139872",
   "metadata": {},
   "outputs": [
    {
     "name": "stdout",
     "output_type": "stream",
     "text": [
      "[1, 2, 3, 4, 5, 6, 7, 8, 9, 10]\n"
     ]
    }
   ],
   "source": [
    "lst = [i for i in range(1,11)]\n",
    "print(lst)"
   ]
  },
  {
   "cell_type": "code",
   "execution_count": 46,
   "id": "5412107b-538b-4e9e-919e-9d7290069b5e",
   "metadata": {},
   "outputs": [
    {
     "data": {
      "text/plain": [
       "[1, 4, 9, 16, 25, 36, 49, 64, 81, 100]"
      ]
     },
     "execution_count": 46,
     "metadata": {},
     "output_type": "execute_result"
    }
   ],
   "source": [
    "a = lambda i : i**2\n",
    "\n",
    "squares = list(map(a,lst))\n",
    "squares"
   ]
  },
  {
   "cell_type": "markdown",
   "id": "b1b199de-57e5-449e-bb6e-b3478e733dca",
   "metadata": {},
   "source": [
    "### 5. Find the cube root of numbers from 1 to 10."
   ]
  },
  {
   "cell_type": "code",
   "execution_count": 62,
   "id": "9c993e40-d8af-4f5f-82f4-7fd9ad931e1f",
   "metadata": {},
   "outputs": [
    {
     "name": "stdout",
     "output_type": "stream",
     "text": [
      "[1, 2, 3, 4, 5, 6, 7, 8, 9, 10]\n"
     ]
    }
   ],
   "source": [
    "lst = [i for i in range(1,11)]\n",
    "print(lst)"
   ]
  },
  {
   "cell_type": "code",
   "execution_count": 63,
   "id": "789bec97-3914-41f8-aff9-687ac5194ec8",
   "metadata": {},
   "outputs": [
    {
     "name": "stdout",
     "output_type": "stream",
     "text": [
      "Cube Roots of \n",
      "[1, 2, 3, 4, 5, 6, 7, 8, 9, 10] are \n",
      "\n",
      "[1.0, 1.2599210498948732, 1.4422495703074083, 1.5874010519681994, 1.7099759466766968, 1.8171205928321397, 1.912931182772389, 2.0, 2.080083823051904, 2.154434690031884]\n"
     ]
    }
   ],
   "source": [
    "a = lambda i : i**(1/3) \n",
    "\n",
    "cube = list(map(a,lst))\n",
    "print(f\"Cube Roots of \\n{lst} are \\n\\n{cube}\")"
   ]
  },
  {
   "cell_type": "markdown",
   "id": "a2a31bf2-cd8e-4e27-a13b-7908e5a7e41a",
   "metadata": {},
   "source": [
    "### 6. Check if a given number is even."
   ]
  },
  {
   "cell_type": "code",
   "execution_count": 67,
   "id": "9c67b989-1233-4c9a-bf45-1471b4b93bf8",
   "metadata": {},
   "outputs": [
    {
     "name": "stdin",
     "output_type": "stream",
     "text": [
      "Enter the number 152\n"
     ]
    },
    {
     "data": {
      "text/plain": [
       "'Even Number'"
      ]
     },
     "execution_count": 67,
     "metadata": {},
     "output_type": "execute_result"
    }
   ],
   "source": [
    "num = int(input(\"Enter the number\"))\n",
    "\n",
    "a = lambda num: \"Even Number\" if num%2==0 else \"Odd Number\"\n",
    "a(num)"
   ]
  },
  {
   "cell_type": "markdown",
   "id": "818d1d0b-40d2-4940-ac8d-770f3986173b",
   "metadata": {},
   "source": [
    "### 7. Filter odd numbers from the given list. [1,2,3,4,5,6,7,8,9,10]"
   ]
  },
  {
   "cell_type": "code",
   "execution_count": 75,
   "id": "5da382c9-55d2-4a62-8b14-903b01560649",
   "metadata": {},
   "outputs": [
    {
     "data": {
      "text/plain": [
       "[1, 2, 3, 4, 5, 6, 7, 8, 9, 10]"
      ]
     },
     "execution_count": 75,
     "metadata": {},
     "output_type": "execute_result"
    }
   ],
   "source": [
    "lst = [1,2,3,4,5,6,7,8,9,10]\n",
    "lst"
   ]
  },
  {
   "cell_type": "code",
   "execution_count": 77,
   "id": "1782ac8a-f1c2-4943-acaa-960e2245c6fc",
   "metadata": {},
   "outputs": [
    {
     "data": {
      "text/plain": [
       "[1, 3, 5, 7, 9]"
      ]
     },
     "execution_count": 77,
     "metadata": {},
     "output_type": "execute_result"
    }
   ],
   "source": [
    "a =  lambda i : i%2!=0\n",
    "\n",
    "odd_lst = list(filter(a,lst))\n",
    "odd_lst"
   ]
  },
  {
   "cell_type": "markdown",
   "id": "970b6dc7-0c7c-43cd-9abc-671dcfe6ff17",
   "metadata": {},
   "source": [
    "### 8. Sort a list of integers into positive and negative integers lists. [1,2,3,4,5,6,-1,-2,-3,-4,-5,0]"
   ]
  },
  {
   "cell_type": "code",
   "execution_count": 78,
   "id": "a38a3d27-166b-45e8-840d-17c3156cf4fa",
   "metadata": {},
   "outputs": [
    {
     "data": {
      "text/plain": [
       "[1, 2, 3, 4, 5, 6, -1, -2, -3, -4, -5, 0]"
      ]
     },
     "execution_count": 78,
     "metadata": {},
     "output_type": "execute_result"
    }
   ],
   "source": [
    "lst = [1,2,3,4,5,6,-1,-2,-3,-4,-5,0]\n",
    "lst"
   ]
  },
  {
   "cell_type": "code",
   "execution_count": 87,
   "id": "4623dd15-13f4-4f74-bf53-eb6983d3abdc",
   "metadata": {},
   "outputs": [
    {
     "name": "stdout",
     "output_type": "stream",
     "text": [
      "List of Positive integers  [1, 2, 3, 4, 5, 6]\n",
      "List of Negative integers  [-1, -2, -3, -4, -5]\n"
     ]
    }
   ],
   "source": [
    "positive_lst=[]\n",
    "negative_lst=[]\n",
    "\n",
    "a = lambda i: i>0\n",
    "b = lambda i: i<0\n",
    "\n",
    "positive_lst = list(filter(a,lst))\n",
    "negative_lst = list(filter(b,lst))\n",
    "\n",
    "print(\"List of Positive integers \",positive_lst)\n",
    "print(\"List of Negative integers \",negative_lst)"
   ]
  },
  {
   "cell_type": "code",
   "execution_count": null,
   "id": "6d274991-36d2-4127-bc10-491f56744efe",
   "metadata": {},
   "outputs": [],
   "source": []
  }
 ],
 "metadata": {
  "kernelspec": {
   "display_name": "Python 3 (ipykernel)",
   "language": "python",
   "name": "python3"
  },
  "language_info": {
   "codemirror_mode": {
    "name": "ipython",
    "version": 3
   },
   "file_extension": ".py",
   "mimetype": "text/x-python",
   "name": "python",
   "nbconvert_exporter": "python",
   "pygments_lexer": "ipython3",
   "version": "3.10.8"
  }
 },
 "nbformat": 4,
 "nbformat_minor": 5
}

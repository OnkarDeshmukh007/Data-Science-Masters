{
 "cells": [
  {
   "cell_type": "markdown",
   "id": "129122ea-6e74-49d9-8058-bd9afc08715a",
   "metadata": {},
   "source": [
    "### Q1, Create a vehicle class with an init method having instance variables as name_of_vehicle, max_speed and average_of_vehicle."
   ]
  },
  {
   "cell_type": "code",
   "execution_count": 1,
   "id": "b5becef3-6677-402b-bca4-430dcb412543",
   "metadata": {},
   "outputs": [],
   "source": [
    "class vehicle:\n",
    "    def __init__(self,name_of_vehicle,max_speed,average_of_vehicle):\n",
    "        self.name_of_vehicle = name_of_vehicle\n",
    "        self.max_speed = max_speed\n",
    "        self.average_of_vehicle = average_of_vehicle\n"
   ]
  },
  {
   "cell_type": "markdown",
   "id": "c85c2bb1-b838-44e6-88e6-97551e96b169",
   "metadata": {},
   "source": [
    "### Q2. Create a child class car from the vehicle class created in Que 1, which will inherit the vehicle class. Create a method named seating_capacity which takes capacity as an argument and returns the name of the vehicle and its seating capacity."
   ]
  },
  {
   "cell_type": "code",
   "execution_count": 18,
   "id": "41416e89-fda2-49f1-9831-720f720303af",
   "metadata": {},
   "outputs": [],
   "source": [
    "class car(vehicle):\n",
    "    def seating_capacity(self,capacity):\n",
    "        self.seating_capacity = capacity\n",
    "        return self.name_of_vehicle,self.seating_capacity"
   ]
  },
  {
   "cell_type": "code",
   "execution_count": 19,
   "id": "ebade12b-7327-4efb-accc-5cfa44fb3779",
   "metadata": {},
   "outputs": [
    {
     "data": {
      "text/plain": [
       "('abc', 2)"
      ]
     },
     "execution_count": 19,
     "metadata": {},
     "output_type": "execute_result"
    }
   ],
   "source": [
    "a = car('abc',200,45)\n",
    "\n",
    "a.seating_capacity(2)\n"
   ]
  },
  {
   "cell_type": "markdown",
   "id": "bf2d53c0-a166-49d7-a385-a5ea1816e083",
   "metadata": {},
   "source": [
    "### Q3. What is multiple inheritance? Write a python code to demonstrate multiple inheritance.\n",
    "\n",
    "- Multiple Inheritance -\n",
    "\n",
    "When from class is derived from multiple base classes then it is a Multiple inheritance\n",
    "eg. As children inherit from parents (mother & father)"
   ]
  },
  {
   "cell_type": "code",
   "execution_count": 25,
   "id": "8df38951-328c-4ce8-9073-17ca6e7deaee",
   "metadata": {},
   "outputs": [],
   "source": [
    "class father:\n",
    "    def display_father(self):\n",
    "        print(\"This is father\")\n",
    "class mother:\n",
    "    def display_mother(self):\n",
    "        print(\"This is mother\")\n",
    "class child(mother,father):\n",
    "    def display_child(self):\n",
    "        print(\"This is child\")"
   ]
  },
  {
   "cell_type": "code",
   "execution_count": 26,
   "id": "1744f673-5c33-40ff-8bb0-88ab20d10125",
   "metadata": {},
   "outputs": [],
   "source": [
    "# creating object for child class\n",
    "obj = child()"
   ]
  },
  {
   "cell_type": "code",
   "execution_count": 27,
   "id": "e3757780-2929-4187-96bc-11a172a8a268",
   "metadata": {},
   "outputs": [
    {
     "name": "stdout",
     "output_type": "stream",
     "text": [
      "This is father\n"
     ]
    }
   ],
   "source": [
    "# child class object can access the method in parent class father\n",
    "obj.display_father()"
   ]
  },
  {
   "cell_type": "code",
   "execution_count": 28,
   "id": "8a6b894b-3b11-467f-b8a6-e34ad59ec4c2",
   "metadata": {},
   "outputs": [
    {
     "name": "stdout",
     "output_type": "stream",
     "text": [
      "This is mother\n"
     ]
    }
   ],
   "source": [
    "# child class object can access the method in parent class mother\n",
    "obj.display_mother()"
   ]
  },
  {
   "cell_type": "markdown",
   "id": "d3a831f2-8010-482a-81a8-3d4f5d35c770",
   "metadata": {},
   "source": [
    "### Q4. What are getter and setter in python? Create a class and create a getter and a setter method in this class.\n",
    "\n",
    "1. getter and setter in pyton are used to access private variable from class to set values or to get values\n",
    "2. also we can add validation conditions also while setting the values of variables using setters\n",
    "\n",
    "code for getter & setter"
   ]
  },
  {
   "cell_type": "code",
   "execution_count": 35,
   "id": "7791a5da-1b79-46a9-94af-9617659e4dd5",
   "metadata": {},
   "outputs": [],
   "source": [
    "class person:\n",
    "    def __init__(self,name):\n",
    "        self.name = name\n",
    "        self.__age = 0 \n",
    "        \n",
    "    @property\n",
    "    def age(self):\n",
    "        return self.__age\n",
    "    \n",
    "    @age.setter\n",
    "    def set_age(self,age):\n",
    "        if age <= 18:\n",
    "            print('Invalid age')\n",
    "        else:\n",
    "            self.__age = age"
   ]
  },
  {
   "cell_type": "code",
   "execution_count": 36,
   "id": "9dcc7243-d917-44af-8ea6-a841087ae912",
   "metadata": {},
   "outputs": [],
   "source": [
    "a = person('abc')"
   ]
  },
  {
   "cell_type": "code",
   "execution_count": 37,
   "id": "1395b3d3-eb07-47cc-b6b1-b7dc85c2cee5",
   "metadata": {},
   "outputs": [
    {
     "data": {
      "text/plain": [
       "0"
      ]
     },
     "execution_count": 37,
     "metadata": {},
     "output_type": "execute_result"
    }
   ],
   "source": [
    "a.age"
   ]
  },
  {
   "cell_type": "code",
   "execution_count": 38,
   "id": "54b4f146-f47c-44d9-99ca-a39fdbb20fec",
   "metadata": {},
   "outputs": [
    {
     "name": "stdout",
     "output_type": "stream",
     "text": [
      "Invalid age\n"
     ]
    }
   ],
   "source": [
    "a.set_age = 10"
   ]
  },
  {
   "cell_type": "code",
   "execution_count": 39,
   "id": "2b63555d-9222-4912-ac39-a025e400bc69",
   "metadata": {},
   "outputs": [],
   "source": [
    "a.set_age=20"
   ]
  },
  {
   "cell_type": "code",
   "execution_count": 40,
   "id": "3d952560-5a40-4cba-af3a-037ff2287c4b",
   "metadata": {},
   "outputs": [
    {
     "data": {
      "text/plain": [
       "20"
      ]
     },
     "execution_count": 40,
     "metadata": {},
     "output_type": "execute_result"
    }
   ],
   "source": [
    "a.age"
   ]
  },
  {
   "cell_type": "markdown",
   "id": "0264bcda-f7cf-4e55-8838-d125d0fc5328",
   "metadata": {},
   "source": [
    "### Q5.What is method overriding in python? Write a python code to demonstrate method overriding.\n",
    "\n",
    "- Method Overriding -\n",
    "1. It allows subcalss to redefine the methods which are already defined in the parent class.\n",
    "2. It means if there is a method with same name, parameters, return type in both derived class and base class then \n",
    "    method from derived class override the method from base class"
   ]
  },
  {
   "cell_type": "code",
   "execution_count": 47,
   "id": "1879c6bb-6e39-4e7c-8c86-fe48c0df2f2c",
   "metadata": {},
   "outputs": [],
   "source": [
    "class base:\n",
    "    def display(self):\n",
    "        print(\"inside base class\")\n",
    "\n",
    "class derived(base):\n",
    "    #here we have overriden the display method which was inherited from base class\n",
    "    def display(self):\n",
    "        print(\"inside derived class\")"
   ]
  },
  {
   "cell_type": "code",
   "execution_count": 48,
   "id": "da8b74e1-2d69-4c6f-baa7-7703dfe0ce7d",
   "metadata": {},
   "outputs": [],
   "source": [
    "obj = derived()"
   ]
  },
  {
   "cell_type": "code",
   "execution_count": 49,
   "id": "20dba4ba-5e55-46ed-aca7-d71b71fd3352",
   "metadata": {},
   "outputs": [
    {
     "name": "stdout",
     "output_type": "stream",
     "text": [
      "inside derived class\n"
     ]
    }
   ],
   "source": [
    "obj.display()"
   ]
  },
  {
   "cell_type": "code",
   "execution_count": null,
   "id": "d79b210b-d20a-4f91-b4cc-6f8daed7fe4f",
   "metadata": {},
   "outputs": [],
   "source": []
  }
 ],
 "metadata": {
  "kernelspec": {
   "display_name": "Python 3 (ipykernel)",
   "language": "python",
   "name": "python3"
  },
  "language_info": {
   "codemirror_mode": {
    "name": "ipython",
    "version": 3
   },
   "file_extension": ".py",
   "mimetype": "text/x-python",
   "name": "python",
   "nbconvert_exporter": "python",
   "pygments_lexer": "ipython3",
   "version": "3.10.8"
  }
 },
 "nbformat": 4,
 "nbformat_minor": 5
}

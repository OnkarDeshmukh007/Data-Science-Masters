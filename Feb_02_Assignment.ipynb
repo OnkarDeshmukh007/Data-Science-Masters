{
 "cells": [
  {
   "cell_type": "markdown",
   "id": "8176df92-8732-416a-ac5d-497f323da68a",
   "metadata": {},
   "source": [
    "## Q1. What are the characteristics of the tuples? Is tuple immutable?\n",
    "\n",
    "1. Ordered collection\n",
    "2. Can be Indexed\n",
    "3. Immutable \n",
    "4. Can store duplicate elements\n",
    "5. Can store different data types inside tuple. (like - int, float, string, list, tuple, etc)\n",
    "6. Slicing Operation can be done on tuples\n",
    "7. Tuples can be created using ( )\n",
    "\n",
    "Yes Tuple is immutable"
   ]
  },
  {
   "cell_type": "markdown",
   "id": "832f7d0d-bf28-421e-884a-fd54f3188fa4",
   "metadata": {},
   "source": [
    "## Q2. What are the two tuple methods in python? Give an example of each method. Give a reason why tuples have only two in-built methods as compared to Lists.\n",
    "\n",
    "Two Tuple Methods as follow - \n",
    "1. count()\n",
    "2. index()\n"
   ]
  },
  {
   "cell_type": "markdown",
   "id": "2066a17e-2ec8-4221-9e81-9edb19d6cf25",
   "metadata": {
    "tags": []
   },
   "source": [
    "Example for count() Method - "
   ]
  },
  {
   "cell_type": "code",
   "execution_count": 12,
   "id": "ad41297a-62a9-4489-af6a-ab93516100b3",
   "metadata": {},
   "outputs": [],
   "source": [
    "tup1 = (1,2,3,4,5,1,1,2,1,100,2,3,4,5,2)"
   ]
  },
  {
   "cell_type": "code",
   "execution_count": 13,
   "id": "7d830a17-efa4-49ba-aac9-63ea3bff3cc2",
   "metadata": {},
   "outputs": [
    {
     "name": "stdout",
     "output_type": "stream",
     "text": [
      "(1, 2, 3, 4, 5, 1, 1, 2, 1, 100, 2, 3, 4, 5, 2)\n"
     ]
    }
   ],
   "source": [
    "print(tup1)"
   ]
  },
  {
   "cell_type": "code",
   "execution_count": 33,
   "id": "9a2fa535-c22f-4078-af9f-48a526dc4600",
   "metadata": {},
   "outputs": [
    {
     "name": "stdout",
     "output_type": "stream",
     "text": [
      "Number of times 1 occured:  4\n",
      "Number of times 3 occured:  2\n"
     ]
    }
   ],
   "source": [
    "## Count method takes 1 argument & return number of times given element occured in tuple\n",
    "print('Number of times 1 occured: ',tup1.count(1))\n",
    "\n",
    "print('Number of times 3 occured: ',tup1.count(3))"
   ]
  },
  {
   "cell_type": "markdown",
   "id": "26a8ae50-c30d-4436-b2f2-beee1ef22491",
   "metadata": {},
   "source": [
    " "
   ]
  },
  {
   "cell_type": "markdown",
   "id": "733d7848-26cc-447f-bb9b-dc3bbb861c41",
   "metadata": {},
   "source": [
    "Example for index() Method -"
   ]
  },
  {
   "cell_type": "code",
   "execution_count": 23,
   "id": "3e18e3bd-b0d1-4758-a5ac-794493086b14",
   "metadata": {},
   "outputs": [
    {
     "name": "stdout",
     "output_type": "stream",
     "text": [
      "(1, 2, 3, 4, 5, 1, 1, 2, 1, 100, 2, 3, 4, 5, 2)\n"
     ]
    }
   ],
   "source": [
    "tup1 = (1,2,3,4,5,1,1,2,1,100,2,3,4,5,2)\n",
    "print(tup1)"
   ]
  },
  {
   "cell_type": "code",
   "execution_count": 25,
   "id": "15817e2b-ffe9-47ac-b745-470a96d65dec",
   "metadata": {},
   "outputs": [
    {
     "data": {
      "text/plain": [
       "1"
      ]
     },
     "execution_count": 25,
     "metadata": {},
     "output_type": "execute_result"
    }
   ],
   "source": [
    "## index function return the index of first occurance of given value\n",
    "tup1.index(2)"
   ]
  },
  {
   "cell_type": "code",
   "execution_count": 26,
   "id": "b3bac9c6-4e37-4ff8-a663-2161702940b9",
   "metadata": {},
   "outputs": [
    {
     "data": {
      "text/plain": [
       "7"
      ]
     },
     "execution_count": 26,
     "metadata": {},
     "output_type": "execute_result"
    }
   ],
   "source": [
    "# we can also give start & stop arguments\n",
    "tup1.index(2,4)"
   ]
  },
  {
   "cell_type": "code",
   "execution_count": 32,
   "id": "b2cf12ec-c071-4b67-8c2c-68d9cbd4c7dc",
   "metadata": {},
   "outputs": [
    {
     "data": {
      "text/plain": [
       "6"
      ]
     },
     "execution_count": 32,
     "metadata": {},
     "output_type": "execute_result"
    }
   ],
   "source": [
    "# here we can see as we specified start index 6 & stop as 10,\n",
    "# and 1 is present at indexes - 0,5,6,8\n",
    "# we are getting output as 6 because we specify the start from 6th index\n",
    "tup1.index(1,6,10)"
   ]
  },
  {
   "cell_type": "markdown",
   "id": "5c93846d-9ebe-490b-9c60-66cff1f56da6",
   "metadata": {},
   "source": [
    "Reason of only two in-built methods for tuple as compared to list is -\n",
    "1. As tuples are immutable, so we are not allowed to alter/modify the tuples. This is one of reason we don't in built methods for tuple which modify tuples. We have only two mothodes\n",
    "2. Since List are mutable, List have more in built methods than tuples. Methods which can modify list."
   ]
  },
  {
   "cell_type": "markdown",
   "id": "f2c13111-5d9e-445c-a67a-b32fd265a713",
   "metadata": {},
   "source": [
    " "
   ]
  },
  {
   "cell_type": "markdown",
   "id": "9bf67357-653a-47cc-b859-273ad119312f",
   "metadata": {},
   "source": [
    "## Q3.  Which collection datatypes in python do not allow duplicate items? Write a code using a set to remove duplicates from the given list.\n",
    "\n",
    "## List = [1, 1, 1, 2, 1, 3, 1, 4, 2, 1, 2, 2, 2, 3, 2, 4, 3, 1, 3, 2, 3, 3, 3, 4, 4, 1, 4, 2, 4, 3, 4, 4]"
   ]
  },
  {
   "cell_type": "markdown",
   "id": "413cd1f4-b3a5-4ab4-9046-e14373fbcca2",
   "metadata": {},
   "source": [
    "SET collection type in python do not allows duplicate items.  "
   ]
  },
  {
   "cell_type": "code",
   "execution_count": 37,
   "id": "8c1367a2-9308-4e4b-bc45-62b415f72785",
   "metadata": {},
   "outputs": [
    {
     "name": "stdout",
     "output_type": "stream",
     "text": [
      "[1, 1, 1, 2, 1, 3, 1, 4, 2, 1, 2, 2, 2, 3, 2, 4, 3, 1, 3, 2, 3, 3, 3, 4, 4, 1, 4, 2, 4, 3, 4, 4]\n"
     ]
    }
   ],
   "source": [
    "lst = [1, 1, 1, 2, 1, 3, 1, 4, 2, 1, 2, 2, 2, 3, 2, 4, 3, 1, 3, 2, 3, 3, 3, 4, 4, 1, 4, 2, 4, 3, 4, 4]\n",
    "\n",
    "print(lst)"
   ]
  },
  {
   "cell_type": "code",
   "execution_count": 41,
   "id": "b7b44543-e25c-47c7-a34c-0923510f7e4f",
   "metadata": {},
   "outputs": [
    {
     "name": "stdout",
     "output_type": "stream",
     "text": [
      "[1, 2, 3, 4]\n"
     ]
    }
   ],
   "source": [
    "# As set does not allow duplicate items, so we can just convert list to set, duplicates will be removed automatically and \n",
    "# then we can store result back in new list\n",
    "set1 = set(lst)\n",
    "\n",
    "list_without_duplicates = list(set1)\n",
    "\n",
    "print(list_without_duplicates)"
   ]
  },
  {
   "cell_type": "markdown",
   "id": "f6fd33cd-dfc0-42e7-ae64-0f57ae228ed5",
   "metadata": {},
   "source": [
    "## Q4. Explain the difference between the union() and update() methods for a set. Give an example of each method."
   ]
  },
  {
   "cell_type": "markdown",
   "id": "6b50de0b-0076-4726-bd4a-77243bd653cc",
   "metadata": {},
   "source": [
    "union() vs update() Method in SET - \n",
    "1. union returns the new set with union of sets i.e combines all elements from both sets return as new set object. While update methode updates the old set with the union of set with other mentioned set"
   ]
  },
  {
   "cell_type": "code",
   "execution_count": 68,
   "id": "56bfa39c-11e0-454e-b26c-fe43bb31d5ed",
   "metadata": {},
   "outputs": [
    {
     "name": "stdout",
     "output_type": "stream",
     "text": [
      "{1, 2, 3, 4, 5} \t {4, 5, 6, 7, 8} \t {8, 9, 10, 11}\n"
     ]
    }
   ],
   "source": [
    "set1 = {1,2,3,4,5}\n",
    "set2 = {4,5,6,7,8}\n",
    "set3 = {8,9,10,11}\n",
    "print(set1,'\\t',set2,'\\t',set3)"
   ]
  },
  {
   "cell_type": "markdown",
   "id": "87aa84a7-85a6-460f-bdfc-116bbec6543f",
   "metadata": {},
   "source": [
    " "
   ]
  },
  {
   "cell_type": "markdown",
   "id": "66ca822d-9375-40ea-b740-e94893838569",
   "metadata": {},
   "source": [
    "union() Method -"
   ]
  },
  {
   "cell_type": "code",
   "execution_count": 69,
   "id": "167fada1-2701-42ad-95ac-f4ba571f5038",
   "metadata": {},
   "outputs": [
    {
     "name": "stdout",
     "output_type": "stream",
     "text": [
      " set1 : {1, 2, 3, 4, 5} \n",
      " set2 : {4, 5, 6, 7, 8} \n",
      " set3 : {8, 9, 10, 11}\n",
      " set4 (UNION) : {1, 2, 3, 4, 5, 6, 7, 8, 9, 10, 11}\n"
     ]
    }
   ],
   "source": [
    "# it wil union set1, set2, set3 and return new set - set4\n",
    "set4 = set1.union(set2,set3)\n",
    "\n",
    "print(f' set1 : {set1} \\n set2 : {set2} \\n set3 : {set3}\\n set4 (UNION) : {set4}')"
   ]
  },
  {
   "cell_type": "markdown",
   "id": "d9edbb3a-9327-4e13-b941-709eb4c31f2c",
   "metadata": {},
   "source": [
    " "
   ]
  },
  {
   "cell_type": "markdown",
   "id": "b633eb80-387a-428d-b9de-a306866c6ee4",
   "metadata": {},
   "source": [
    "update() Method"
   ]
  },
  {
   "cell_type": "code",
   "execution_count": 70,
   "id": "267054c4-0fdd-4f94-8710-eebab60bfe68",
   "metadata": {},
   "outputs": [
    {
     "name": "stdout",
     "output_type": "stream",
     "text": [
      " set1 before update :  {1, 2, 3, 4, 5}\n",
      " set1 after update : {1, 2, 3, 4, 5, 6, 7, 8, 9, 10, 11} \n",
      " set2 : {4, 5, 6, 7, 8} \n",
      " set3 : {8, 9, 10, 11}\n"
     ]
    }
   ],
   "source": [
    "# here we will update set1 with union of set1,set2,set3\n",
    "\n",
    "print(' set1 before update : ',set1)\n",
    "\n",
    "set1.update(set2,set3)\n",
    "\n",
    "print(f' set1 after update : {set1} \\n set2 : {set2} \\n set3 : {set3}')"
   ]
  },
  {
   "cell_type": "markdown",
   "id": "3b4bd9f5-8677-473f-ba19-b20aa6f07037",
   "metadata": {},
   "source": [
    " "
   ]
  },
  {
   "cell_type": "markdown",
   "id": "7208c765-320a-4bc8-8c91-df67e0712e01",
   "metadata": {},
   "source": [
    "## Q5. What is a dictionary? Give an example. Also, state whether a dictionary is ordered or unordered.\n",
    "\n",
    "Dictionary is collection where data is stored in key:value pairs. Dictionary does not allows duplicate keys. Values in dictionary can be any data type object like (int, string, float, list, tuple, dictionary, set, etc)\n",
    "\n",
    "Example of dictionary - "
   ]
  },
  {
   "cell_type": "code",
   "execution_count": 78,
   "id": "e7b3a996-8768-4b7b-80f2-515b8eeb704b",
   "metadata": {},
   "outputs": [
    {
     "name": "stdout",
     "output_type": "stream",
     "text": [
      "{'name': 'abc', 'ph_no': 987654312, 'fav_movies': ['Spiderman', 'Superman']}\n",
      "<class 'dict'>\n"
     ]
    }
   ],
   "source": [
    "dict1 = {'name':'abc','ph_no':987654312,'fav_movies':['Spiderman','Superman']}\n",
    "print(dict1)\n",
    "\n",
    "print(type(dict1))"
   ]
  },
  {
   "cell_type": "code",
   "execution_count": 79,
   "id": "b1f6e551-9638-40c1-9203-397a4ae86ee4",
   "metadata": {},
   "outputs": [
    {
     "data": {
      "text/plain": [
       "'abc'"
      ]
     },
     "execution_count": 79,
     "metadata": {},
     "output_type": "execute_result"
    }
   ],
   "source": [
    "dict1['name']"
   ]
  },
  {
   "cell_type": "code",
   "execution_count": 80,
   "id": "b53185d0-9dbe-49e8-9578-1e7213e73a9f",
   "metadata": {},
   "outputs": [
    {
     "data": {
      "text/plain": [
       "['Spiderman', 'Superman']"
      ]
     },
     "execution_count": 80,
     "metadata": {},
     "output_type": "execute_result"
    }
   ],
   "source": [
    "dict1['fav_movies']"
   ]
  },
  {
   "cell_type": "markdown",
   "id": "5a06f9c9-4f9f-4d27-a2a7-17dcd4f02817",
   "metadata": {},
   "source": [
    " "
   ]
  },
  {
   "cell_type": "markdown",
   "id": "f60abeb5-e875-44e6-871f-82c98ebadb18",
   "metadata": {},
   "source": [
    "Dictionary is an ordered collection, as of latest version of python."
   ]
  },
  {
   "cell_type": "markdown",
   "id": "4b9e83bd-9022-4132-af14-7e9927f5b552",
   "metadata": {},
   "source": [
    "## Q6. Can we create a nested dictionary? If so, please give an example by creating a simple one-level nested dictionary.\n",
    "\n",
    "Yes we can create nested dictionary.\n",
    "\n",
    "Example - "
   ]
  },
  {
   "cell_type": "code",
   "execution_count": 83,
   "id": "7cdf2b10-20ae-46fa-bba6-15951b6a915c",
   "metadata": {},
   "outputs": [
    {
     "name": "stdout",
     "output_type": "stream",
     "text": [
      "{'name': 'xyz', 'contact_info': {'phone_no': 9876543210, 'email': 'xyz@gmail.com'}, 'fav_movies': 'Spiderman'}\n"
     ]
    }
   ],
   "source": [
    "# here value for contact_info is a another dictionary with keys - phone_no & email \n",
    "dict2 = {'name':'xyz','contact_info':{'phone_no':9876543210,'email':'xyz@gmail.com'},'fav_movies':'Spiderman'}\n",
    "\n",
    "print(dict2)"
   ]
  },
  {
   "cell_type": "code",
   "execution_count": 84,
   "id": "e3ef1b97-a944-4159-956b-af2ba9c10310",
   "metadata": {},
   "outputs": [
    {
     "data": {
      "text/plain": [
       "{'phone_no': 9876543210, 'email': 'xyz@gmail.com'}"
      ]
     },
     "execution_count": 84,
     "metadata": {},
     "output_type": "execute_result"
    }
   ],
   "source": [
    "dict2['contact_info']"
   ]
  },
  {
   "cell_type": "code",
   "execution_count": 86,
   "id": "de5de72c-1a37-4018-97aa-fb3a34bfbc08",
   "metadata": {},
   "outputs": [
    {
     "data": {
      "text/plain": [
       "dict"
      ]
     },
     "execution_count": 86,
     "metadata": {},
     "output_type": "execute_result"
    }
   ],
   "source": [
    "# we can see type of value stored for contact_info is dict\n",
    "type(dict2['contact_info'])"
   ]
  },
  {
   "cell_type": "markdown",
   "id": "ababa4e2-bc0f-470f-b197-6a041dcc81a8",
   "metadata": {},
   "source": [
    "## Q7. Using setdefault() method, create key named topics in the given dictionary and also add the value of the key as this list ['Python', 'Machine Learning’, 'Deep Learning']"
   ]
  },
  {
   "cell_type": "code",
   "execution_count": 87,
   "id": "21bfda9c-998a-4df5-bbd4-2284158aee9c",
   "metadata": {},
   "outputs": [
    {
     "name": "stdout",
     "output_type": "stream",
     "text": [
      "{'Platform': 'PWSkills', 'mentor': ['krish', 'sudhanshu']}\n"
     ]
    }
   ],
   "source": [
    "dict3 = {'Platform':'PWSkills','mentor':['krish','sudhanshu']}\n",
    "\n",
    "print(dict3)"
   ]
  },
  {
   "cell_type": "code",
   "execution_count": 89,
   "id": "b042e269-da91-45ac-90fe-e75b474317cc",
   "metadata": {},
   "outputs": [
    {
     "data": {
      "text/plain": [
       "['Python', 'Machine Learning', 'Deep Learning']"
      ]
     },
     "execution_count": 89,
     "metadata": {},
     "output_type": "execute_result"
    }
   ],
   "source": [
    "dict3.setdefault('topics',['Python', 'Machine Learning', 'Deep Learning'])"
   ]
  },
  {
   "cell_type": "code",
   "execution_count": 91,
   "id": "cd7cca8e-b18c-41ec-a500-6a26887f03df",
   "metadata": {},
   "outputs": [
    {
     "name": "stdout",
     "output_type": "stream",
     "text": [
      "{'Platform': 'PWSkills', 'mentor': ['krish', 'sudhanshu'], 'topics': ['Python', 'Machine Learning', 'Deep Learning']}\n"
     ]
    }
   ],
   "source": [
    "print(dict3)"
   ]
  },
  {
   "cell_type": "markdown",
   "id": "32a681ec-6293-4e52-bda0-b1041f5a207a",
   "metadata": {},
   "source": [
    "## Q8. What are the three view objects in dictionaries? Use the three in-built methods in python to display these three view objects for the given dictionary.\n",
    "## dict1 = {'Sport': 'Cricket' , 'Teams': ['India', 'Australia', 'England', 'South Africa', 'Sri Lanka', 'New Zealand']}\n",
    "\n",
    "Three view objects - \n",
    "1. keys - this represent all the keys from the dictionary\n",
    "2. values - this gives view of all values from the dictionary\n",
    "3. items - this returns all the key value pairs from the dictionary"
   ]
  },
  {
   "cell_type": "code",
   "execution_count": 98,
   "id": "44c58c47-071f-4e87-a35c-6255925dc04b",
   "metadata": {},
   "outputs": [],
   "source": [
    "dict1 = {'Sport': 'Cricket' , 'Teams': ['India', 'Australia', 'England', 'South Africa', 'Sri Lanka', 'New Zealand']}"
   ]
  },
  {
   "cell_type": "code",
   "execution_count": 99,
   "id": "2b34d88f-e06c-4d8d-a322-d5e86134897e",
   "metadata": {},
   "outputs": [
    {
     "name": "stdout",
     "output_type": "stream",
     "text": [
      "dict_keys(['Sport', 'Teams'])\n"
     ]
    }
   ],
   "source": [
    "print(dict1.keys())"
   ]
  },
  {
   "cell_type": "code",
   "execution_count": 100,
   "id": "2950ad54-219a-4d78-855e-381efdbf6b89",
   "metadata": {},
   "outputs": [
    {
     "name": "stdout",
     "output_type": "stream",
     "text": [
      "dict_values(['Cricket', ['India', 'Australia', 'England', 'South Africa', 'Sri Lanka', 'New Zealand']])\n"
     ]
    }
   ],
   "source": [
    "print(dict1.values())"
   ]
  },
  {
   "cell_type": "code",
   "execution_count": 102,
   "id": "565df687-5612-4e5e-8934-6e39d4157624",
   "metadata": {},
   "outputs": [
    {
     "name": "stdout",
     "output_type": "stream",
     "text": [
      "dict_items([('Sport', 'Cricket'), ('Teams', ['India', 'Australia', 'England', 'South Africa', 'Sri Lanka', 'New Zealand'])])\n"
     ]
    }
   ],
   "source": [
    "print(dict1.items())"
   ]
  },
  {
   "cell_type": "code",
   "execution_count": null,
   "id": "a708199b-8100-44ff-93f5-a43b617fb041",
   "metadata": {},
   "outputs": [],
   "source": []
  }
 ],
 "metadata": {
  "kernelspec": {
   "display_name": "Python 3 (ipykernel)",
   "language": "python",
   "name": "python3"
  },
  "language_info": {
   "codemirror_mode": {
    "name": "ipython",
    "version": 3
   },
   "file_extension": ".py",
   "mimetype": "text/x-python",
   "name": "python",
   "nbconvert_exporter": "python",
   "pygments_lexer": "ipython3",
   "version": "3.10.8"
  }
 },
 "nbformat": 4,
 "nbformat_minor": 5
}

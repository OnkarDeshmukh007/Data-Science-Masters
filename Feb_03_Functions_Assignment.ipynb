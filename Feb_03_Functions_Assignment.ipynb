{
 "cells": [
  {
   "cell_type": "markdown",
   "id": "a50c0974-b175-4b2c-8de1-4427c9dbfd99",
   "metadata": {},
   "source": [
    "## Q1. Which keyword is used to create a function? Create a function to return a list of odd numbers in the range of 1 to 25.\n",
    "\n",
    "def keyword is used to create function in python.\n",
    "\n"
   ]
  },
  {
   "cell_type": "code",
   "execution_count": 2,
   "id": "23ebd317-1e37-4325-a9cf-c2eb8e63944b",
   "metadata": {},
   "outputs": [],
   "source": [
    "# Function to return a list of odd numbers in the range of 1 to 25\n",
    "\n",
    "def odd_numbers():\n",
    "    lst = []\n",
    "    # in range function as 2nd argument is exclusive, so 26 is taken instead of 25\n",
    "    for i in range(1,26):\n",
    "        if i%2 == 1:\n",
    "            lst.append(i)\n",
    "    return lst"
   ]
  },
  {
   "cell_type": "code",
   "execution_count": 3,
   "id": "5b830837-9544-4e75-994b-041f796f9a09",
   "metadata": {},
   "outputs": [
    {
     "name": "stdout",
     "output_type": "stream",
     "text": [
      "[1, 3, 5, 7, 9, 11, 13, 15, 17, 19, 21, 23, 25]\n"
     ]
    }
   ],
   "source": [
    "print(odd_numbers())"
   ]
  },
  {
   "cell_type": "markdown",
   "id": "9632f80b-735c-4a61-b9e7-a7e45b191312",
   "metadata": {},
   "source": [
    "## Q2. Why *args and **kwargs is used in some functions? Create a function each for *args and **kwargs to demonstrate their use.\n",
    "\n",
    "*args & **kwargs - are special type of arguments used to pass variable number of arguments to the functions.\n",
    "\n",
    "*args is used to pass number of non-keyword arguments (eg fun(10,20,30) ) while **kwargs is used to pass number of keyword arguments (eg. fun(a=10, b=20) ) to the function.\n",
    "\n",
    "These two types of arguments are very usefull when we are not sure about how many numbers of argument we are going to pass to function.\n",
    "Also allows to pass differen data types of arguments like(int, float, etc)"
   ]
  },
  {
   "cell_type": "code",
   "execution_count": 16,
   "id": "47b0c52d-f315-4c46-960e-ca409874487f",
   "metadata": {},
   "outputs": [],
   "source": [
    "# function for *args\n",
    "\n",
    "def fun_args(*args):\n",
    "    return args"
   ]
  },
  {
   "cell_type": "code",
   "execution_count": 17,
   "id": "ce983635-4e35-424d-8488-f45ab863db2e",
   "metadata": {},
   "outputs": [
    {
     "data": {
      "text/plain": [
       "(1, 20, 'ABC', 45.78, [9, 8, 7], 100)"
      ]
     },
     "execution_count": 17,
     "metadata": {},
     "output_type": "execute_result"
    }
   ],
   "source": [
    "a = fun_args(1,20,'ABC',45.78,[9,8,7],100) \n",
    "a"
   ]
  },
  {
   "cell_type": "code",
   "execution_count": 18,
   "id": "daa2ffcd-e0dd-4194-842a-4ccb9431bf73",
   "metadata": {},
   "outputs": [],
   "source": [
    "# function for **kwargs\n",
    "\n",
    "def fun_kwargs(**kwargs):\n",
    "    return kwargs"
   ]
  },
  {
   "cell_type": "code",
   "execution_count": 21,
   "id": "86a38727-e06a-427a-adb9-d12b0a5e230c",
   "metadata": {},
   "outputs": [
    {
     "data": {
      "text/plain": [
       "{'a': 10, 'b': 'xyz', 'c': [1, 2, 3]}"
      ]
     },
     "execution_count": 21,
     "metadata": {},
     "output_type": "execute_result"
    }
   ],
   "source": [
    "b = fun_kwargs(a=10,b='xyz',c=[1,2,3])\n",
    "b"
   ]
  },
  {
   "cell_type": "markdown",
   "id": "26c74544-f9ef-41f2-a804-7bfd43ebde70",
   "metadata": {},
   "source": [
    "## Q3.  What is an iterator in python? Name the method used to initialise the iterator object and the method used for iteration. Use these methods to print the first five elements of the given list [2, 4, 6, 8, 10, 12, 14, 16,18, 20].\n",
    "\n",
    "1. Iterator in python is a object which holds the countable number of values.\n",
    "2. We can traverse/iterate through the values.\n",
    "3. __iter__() - is used to initialise the iterator\n",
    "4. __next__() - is used to iterate through the values"
   ]
  },
  {
   "cell_type": "code",
   "execution_count": 25,
   "id": "a23c5dcc-cb93-4a1a-9e86-b57bf051035a",
   "metadata": {},
   "outputs": [
    {
     "name": "stdout",
     "output_type": "stream",
     "text": [
      "2\n",
      "4\n",
      "6\n",
      "8\n",
      "10\n"
     ]
    }
   ],
   "source": [
    "# list has iter() & next() methodes to implement iterator methods\n",
    "\n",
    "lst = [2, 4, 6, 8, 10, 12, 14, 16,18, 20]\n",
    "a = iter(lst)\n",
    "for i in range(0,5):\n",
    "    print(next(a))"
   ]
  },
  {
   "cell_type": "markdown",
   "id": "7fa9466d-3490-4f64-896c-5f8e6f6b5dbc",
   "metadata": {},
   "source": [
    "## Q4.  What is a generator function in python? Why yield keyword is used? Give an example of a generator function.\n",
    "\n",
    "1. Generator function in python is a function which gives an iterator which produces the sequence of values whenever iterated through them.\n",
    "2. Generator function does not store complete sequence in the memory, the sequence will be generated dynamically one by one while iteration.\n",
    "3. As sequence not stored in memory, it is usefull while creating large sequences of values.\n",
    "4. yield keyword is used in generator functions.\n",
    "5. yield keyword returns the generator object instead of actual value & it will not terminate the function like return keyword does\n",
    "6. yield will generate next value in sequense whenever function is called\n",
    "\n",
    "Example of generator function - "
   ]
  },
  {
   "cell_type": "code",
   "execution_count": 26,
   "id": "71a47a2e-bdcb-49ae-82c1-06f4d2a5e619",
   "metadata": {},
   "outputs": [],
   "source": [
    "# function to get sequence of squares of values starting from a to the b\n",
    "def gen_fun(a,b):\n",
    "    for i in range(a,b):\n",
    "        yield i**2"
   ]
  },
  {
   "cell_type": "code",
   "execution_count": 27,
   "id": "c3c78ed9-ef30-4aa8-9b5b-5e90409e33aa",
   "metadata": {},
   "outputs": [
    {
     "data": {
      "text/plain": [
       "<generator object gen_fun at 0x7fd52ea87d80>"
      ]
     },
     "execution_count": 27,
     "metadata": {},
     "output_type": "execute_result"
    }
   ],
   "source": [
    "gen_fun(0,5)"
   ]
  },
  {
   "cell_type": "code",
   "execution_count": 28,
   "id": "28137179-b992-4c36-9e6e-b87571ad25af",
   "metadata": {},
   "outputs": [
    {
     "data": {
      "text/plain": [
       "generator"
      ]
     },
     "execution_count": 28,
     "metadata": {},
     "output_type": "execute_result"
    }
   ],
   "source": [
    "type(gen_fun(0,5))"
   ]
  },
  {
   "cell_type": "code",
   "execution_count": 29,
   "id": "a8df93df-6dee-4c64-8585-b63c3ef48120",
   "metadata": {},
   "outputs": [
    {
     "name": "stdout",
     "output_type": "stream",
     "text": [
      "0 1 4 9 16 "
     ]
    }
   ],
   "source": [
    "## lets iterate through this\n",
    "for i in gen_fun(0,5):\n",
    "    print(i,end=' ')"
   ]
  },
  {
   "cell_type": "markdown",
   "id": "ef0b687e-4901-495e-9c1d-e638a79ab637",
   "metadata": {},
   "source": [
    "## Q5. Create a generator function for prime numbers less than 1000. Use the next() method to print the first 20 prime numbers."
   ]
  },
  {
   "cell_type": "code",
   "execution_count": 30,
   "id": "ece0a66b-3b02-4655-87c5-15ced23ce627",
   "metadata": {},
   "outputs": [],
   "source": [
    "def prime_gen():\n",
    "    for i in range(1000):\n",
    "        for j in range(2,i):\n",
    "            if i%j == 0:\n",
    "                break\n",
    "        else:\n",
    "            yield i"
   ]
  },
  {
   "cell_type": "code",
   "execution_count": 34,
   "id": "92ee4cde-ad23-4835-b8ba-23cba10762bc",
   "metadata": {},
   "outputs": [
    {
     "name": "stdout",
     "output_type": "stream",
     "text": [
      "0 1 2 3 5 7 11 13 17 19 23 29 31 37 41 43 47 53 59 61 "
     ]
    }
   ],
   "source": [
    "a=prime_gen()\n",
    "for i in range(20):\n",
    "    print(next(a),end=' ')"
   ]
  },
  {
   "cell_type": "code",
   "execution_count": null,
   "id": "c32de77e-998e-45e8-b634-5a1643958122",
   "metadata": {},
   "outputs": [],
   "source": []
  }
 ],
 "metadata": {
  "kernelspec": {
   "display_name": "Python 3 (ipykernel)",
   "language": "python",
   "name": "python3"
  },
  "language_info": {
   "codemirror_mode": {
    "name": "ipython",
    "version": 3
   },
   "file_extension": ".py",
   "mimetype": "text/x-python",
   "name": "python",
   "nbconvert_exporter": "python",
   "pygments_lexer": "ipython3",
   "version": "3.10.8"
  }
 },
 "nbformat": 4,
 "nbformat_minor": 5
}

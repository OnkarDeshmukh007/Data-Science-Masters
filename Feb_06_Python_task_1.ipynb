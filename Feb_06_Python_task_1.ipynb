{
 "cells": [
  {
   "cell_type": "markdown",
   "id": "13b462c7-bd70-42b5-9df3-b96e5d4b69a5",
   "metadata": {},
   "source": [
    "### Q1. Create a function which will take a list as an argument and return the product of all the numbers after creating a flat list. \n",
    "#### Use the below-given list as an argument for your function. \n",
    "#### list1 = [1,2,3,4, [44,55,66, True], False, (34,56,78,89,34), {1,2,3,3,2,1}, {1:34, \"key2\": [55, 67, 78, 89], 4: (45,22, 61, 34)}, [56, 'data science'], 'Machine Learning']\n",
    "#### Note: you must extract numeric keys and values of the dictionary also."
   ]
  },
  {
   "cell_type": "code",
   "execution_count": 2,
   "id": "5e2d64a1-26dc-4055-afb2-590ca7483dca",
   "metadata": {},
   "outputs": [
    {
     "data": {
      "text/plain": [
       "[1,\n",
       " 2,\n",
       " 3,\n",
       " 4,\n",
       " [44, 55, 66, True],\n",
       " False,\n",
       " (34, 56, 78, 89, 34),\n",
       " {1, 2, 3},\n",
       " {1: 34, 'key2': [55, 67, 78, 89], 4: (45, 22, 61, 34)},\n",
       " [56, 'data science'],\n",
       " 'Machine Learning']"
      ]
     },
     "execution_count": 2,
     "metadata": {},
     "output_type": "execute_result"
    }
   ],
   "source": [
    "list1 = [1,2,3,4, [44,55,66, True], False, (34,56,78,89,34), {1,2,3,3,2,1}, {1:34, \"key2\": [55, 67, 78, 89], 4: (45,22, 61, 34)}, [56, 'data science'], 'Machine Learning']\n",
    "list1"
   ]
  },
  {
   "cell_type": "code",
   "execution_count": 10,
   "id": "cdc5a096-6248-471f-82fb-e55a49ab3b59",
   "metadata": {},
   "outputs": [],
   "source": [
    "def flatten_product(lst):\n",
    "    product_lst = []\n",
    "    for i in lst:\n",
    "        if type(i) in [int,float]:\n",
    "            product_lst.append(i)\n",
    "        elif type(i) in [list,set,tuple]:\n",
    "            for j in i:\n",
    "                if type(j) == int or type(j) == float:\n",
    "                    product_lst.append(j)\n",
    "        elif type(i) == dict:\n",
    "            key = i.keys()\n",
    "            val = i.values()\n",
    "            for k in key:\n",
    "                if type(k) in [int,float]:\n",
    "                    product_lst.append(k)\n",
    "            for k in val:\n",
    "                if type(k) in [int,float]:\n",
    "                    product_lst.append(k)\n",
    "                elif type(k) in [list,set,tuple]:\n",
    "                    for l in k:\n",
    "                        if type(l) in [int,float]:\n",
    "                            product_lst.append(l)\n",
    "    product=1\n",
    "    for i in product_lst:\n",
    "        product*=i\n",
    "    return product"
   ]
  },
  {
   "cell_type": "code",
   "execution_count": 11,
   "id": "66c62a2a-910a-4c0e-b7e3-40aec0e68ffa",
   "metadata": {},
   "outputs": [
    {
     "data": {
      "text/plain": [
       "4134711838987085478833841242112000"
      ]
     },
     "execution_count": 11,
     "metadata": {},
     "output_type": "execute_result"
    }
   ],
   "source": [
    "flatten_product(list1)"
   ]
  },
  {
   "cell_type": "markdown",
   "id": "a0d3a9df-ca38-42bb-8321-a0c5b59af4dc",
   "metadata": {},
   "source": [
    " "
   ]
  },
  {
   "cell_type": "markdown",
   "id": "057b8be1-c6e4-4bc8-b874-2b7d244b7455",
   "metadata": {},
   "source": [
    "### Q2. Write a python program for encrypting a message sent to you by your friend. The logic of encryption should be such that, for a the output should be z. For b, the output should be y. For c, the output should be x respectively. Also, the whitespace should be replaced with a dollar sign. Keep the punctuation marks unchanged.\n",
    "### Input Sentence: I want to become a Data Scientist.\n",
    "### Encrypt the above input sentence using the program you just created.\n",
    "### Note: Convert the given input sentence into lowercase before encrypting. The final output should be lowercase."
   ]
  },
  {
   "cell_type": "code",
   "execution_count": 29,
   "id": "af44ce76-e014-46d8-ab06-78b8577e6313",
   "metadata": {},
   "outputs": [
    {
     "name": "stdin",
     "output_type": "stream",
     "text": [
      "Enter the message I want to become a Data Scientist.\n"
     ]
    },
    {
     "name": "stdout",
     "output_type": "stream",
     "text": [
      "Encrypted Message is r$dzmg$gl$yvxlnv$z$wzgz$hxrvmgrhg.\n"
     ]
    }
   ],
   "source": [
    "msg = str(input(\"Enter the message\"))\n",
    "msg = msg.lower()\n",
    "mapping = [chr(i) for i in range(97,123)]\n",
    "\n",
    "msg_enc=str()\n",
    "\n",
    "for i in msg:\n",
    "    if i in mapping:\n",
    "        msg_enc+=mapping[0-(mapping.index(i)+1)]\n",
    "    elif i.isspace():\n",
    "        msg_enc+='$'\n",
    "    else:\n",
    "        msg_enc+=i\n",
    "print(f\"Encrypted Message is {msg_enc}\")"
   ]
  },
  {
   "cell_type": "code",
   "execution_count": null,
   "id": "3e16bf81-7214-4c46-b421-fea7e2e26bd1",
   "metadata": {},
   "outputs": [],
   "source": []
  }
 ],
 "metadata": {
  "kernelspec": {
   "display_name": "Python 3 (ipykernel)",
   "language": "python",
   "name": "python3"
  },
  "language_info": {
   "codemirror_mode": {
    "name": "ipython",
    "version": 3
   },
   "file_extension": ".py",
   "mimetype": "text/x-python",
   "name": "python",
   "nbconvert_exporter": "python",
   "pygments_lexer": "ipython3",
   "version": "3.10.8"
  }
 },
 "nbformat": 4,
 "nbformat_minor": 5
}
